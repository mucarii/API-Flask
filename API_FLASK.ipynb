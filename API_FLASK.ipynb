{
  "nbformat": 4,
  "nbformat_minor": 0,
  "metadata": {
    "colab": {
      "provenance": []
    },
    "kernelspec": {
      "name": "python3",
      "display_name": "Python 3"
    },
    "language_info": {
      "name": "python"
    }
  },
  "cells": [
    {
      "cell_type": "code",
      "source": [
        "!pip install flask-ngrok"
      ],
      "metadata": {
        "id": "4rNscTYa-5H_"
      },
      "execution_count": null,
      "outputs": []
    },
    {
      "cell_type": "code",
      "source": [
        "from flask import Flask, jsonify\n",
        "from flask_ngrok import run_with_ngrok\n",
        "import pandas as pd\n",
        "\n",
        "app = Flask(__name__)\n",
        "run_with_ngrok(app)\n",
        "\n",
        "# Exemplo de dados\n",
        "data = {\n",
        "    \"name\": \"Jorge\",\n",
        "    \"surname\": \"Churrasco\",\n",
        "    \"idade\": 57\n",
        "}\n",
        "\n",
        "@app.route('/')\n",
        "def home():\n",
        "    return \"<marquee><h3>Para acessar a planilha JSON, adicione '/index' à URL.</h3></marquee>\"\n",
        "\n",
        "@app.route('/index')\n",
        "def index():\n",
        "    # Exemplo de leitura de uma planilha JSON com pandas\n",
        "    df = pd.DataFrame([data])  # Simulação de leitura de dados\n",
        "\n",
        "    # Converter o DataFrame para JSON e retornar\n",
        "    return df.to_json(orient='records')\n",
        "\n",
        "if __name__ == '__main__':\n",
        "    app.run()\n"
      ],
      "metadata": {
        "id": "VAkag4Qn-7NS"
      },
      "execution_count": null,
      "outputs": []
    },
    {
      "cell_type": "code",
      "source": [],
      "metadata": {
        "id": "nTxaHeAb_Amy"
      },
      "execution_count": 2,
      "outputs": []
    }
  ]
}